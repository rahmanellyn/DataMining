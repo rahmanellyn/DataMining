{
  "nbformat": 4,
  "nbformat_minor": 0,
  "metadata": {
    "colab": {
      "provenance": []
    },
    "kernelspec": {
      "name": "python3",
      "display_name": "Python 3"
    },
    "language_info": {
      "name": "python"
    }
  },
  "cells": [
    {
      "cell_type": "code",
      "execution_count": null,
      "metadata": {
        "id": "Yz72p39WNEAL"
      },
      "outputs": [],
      "source": [
        "# import library yang akan digunakan\n",
        "import numpy as np\n",
        "import pandas as pd"
      ]
    },
    {
      "cell_type": "code",
      "source": [
        "data= np.array([\n",
        "    [2.5, 2.4, 3.5, 3.6],\n",
        "    [0.5, 0.7, 1.2, 1.3],\n",
        "    [2.2, 2.9, 3.0, 3.4],\n",
        "    [1.9, 2.2, 2.5, 2.7],\n",
        "    [3.1, 3.6, 4.1, 4.0],\n",
        "    [2.3, 2.7, 3.1, 3.0],\n",
        "    [2.0, 1.6, 2.3, 2.4],\n",
        "    [1.0, 1.1, 1.5, 1.6],\n",
        "    [1.5, 1.6, 2.0, 2.1],\n",
        "    [1.1, 0.9, 1.3, 1.4]\n",
        "])\n",
        "data"
      ],
      "metadata": {
        "colab": {
          "base_uri": "https://localhost:8080/"
        },
        "id": "xVXDZqQbNmJF",
        "outputId": "28f1ebf1-6f7d-47b8-e926-d2c8d6c5fa9a"
      },
      "execution_count": null,
      "outputs": [
        {
          "output_type": "execute_result",
          "data": {
            "text/plain": [
              "array([[2.5, 2.4, 3.5, 3.6],\n",
              "       [0.5, 0.7, 1.2, 1.3],\n",
              "       [2.2, 2.9, 3. , 3.4],\n",
              "       [1.9, 2.2, 2.5, 2.7],\n",
              "       [3.1, 3.6, 4.1, 4. ],\n",
              "       [2.3, 2.7, 3.1, 3. ],\n",
              "       [2. , 1.6, 2.3, 2.4],\n",
              "       [1. , 1.1, 1.5, 1.6],\n",
              "       [1.5, 1.6, 2. , 2.1],\n",
              "       [1.1, 0.9, 1.3, 1.4]])"
            ]
          },
          "metadata": {},
          "execution_count": 4
        }
      ]
    },
    {
      "cell_type": "code",
      "source": [
        "#stanmdarisasi\n",
        "mean= np.mean(data, axis=0)\n",
        "std_dev= np.std(data, axis=0)\n",
        "Z= (data-mean)/std_dev\n",
        "Z"
      ],
      "metadata": {
        "colab": {
          "base_uri": "https://localhost:8080/"
        },
        "id": "JVBG3XB6O4My",
        "outputId": "ee6ae343-e462-4bb0-d3cf-0f63ab6db22b"
      },
      "execution_count": null,
      "outputs": [
        {
          "output_type": "execute_result",
          "data": {
            "text/plain": [
              "array([[ 0.92627881,  0.47833912,  1.13455516,  1.16201358],\n",
              "       [-1.7585873 , -1.41276904, -1.35066091, -1.3833495 ],\n",
              "       [ 0.52354889,  1.0345474 ,  0.5942908 ,  0.94067766],\n",
              "       [ 0.12081898,  0.25585581,  0.05402644,  0.16600194],\n",
              "       [ 1.73173864,  1.813239  ,  1.78287239,  1.60468542],\n",
              "       [ 0.6577922 ,  0.81206409,  0.70234367,  0.49800582],\n",
              "       [ 0.25506228, -0.41159413, -0.16207931, -0.16600194],\n",
              "       [-1.08737078, -0.96780241, -1.02650229, -1.05134562],\n",
              "       [-0.41615425, -0.41159413, -0.48623793, -0.49800582],\n",
              "       [-0.95312747, -1.19028572, -1.24260803, -1.27268154]])"
            ]
          },
          "metadata": {},
          "execution_count": 6
        }
      ]
    },
    {
      "cell_type": "code",
      "source": [
        "#HITUNG MATRIKS COVARIAN\n",
        "cov_matrix = np.cov(Z, rowvar=False)\n",
        "cov_matrix\n",
        "\n",
        "#HITUNG NILAI EIGEN DAN VECTOR EIGEN\n",
        "eigenvalues, eigenvectors = np.linalg.eigh(cov_matrix)\n",
        "\n",
        "#hitung proporsi variansi dari niali eigen\n",
        "total_variance = np.sum(eigenvalues)\n",
        "proportions = eigenvalues / total_variance\n",
        "#HITUNG KONTRIBUSI VARIANSI DARI NILAI EIGEN\n",
        "cumulative_variance = np.cumsum(proportions)\n",
        "\n",
        "#menampilkan hasil\n",
        "print(\"Nilai Eigen:\")\n",
        "print(eigenvalues)\n",
        "print(\"\\nVector Eigen:\")\n",
        "print(eigenvectors)\n",
        "print(\"\\nProporsi Variansi:\")\n",
        "print(proportions)\n",
        "print(\"\\nKontribusi Variansi:\")\n",
        "print(cumulative_variance)\n"
      ],
      "metadata": {
        "colab": {
          "base_uri": "https://localhost:8080/"
        },
        "id": "KH8cdqz3PO0b",
        "outputId": "b817e0bb-122f-4ec1-bc66-0cb6012a4809"
      },
      "execution_count": null,
      "outputs": [
        {
          "output_type": "stream",
          "name": "stdout",
          "text": [
            "Nilai Eigen:\n",
            "[0.01006116 0.0358081  0.06538576 4.33318943]\n",
            "\n",
            "Vector Eigen:\n",
            "[[ 0.18010494  0.59069863 -0.60891055 -0.4978607 ]\n",
            " [-0.02652168  0.38947111  0.77557842 -0.49607153]\n",
            " [-0.76652797 -0.36220899 -0.16639394 -0.50354004]\n",
            " [ 0.61586824 -0.60678829  0.00437079 -0.50248899]]\n",
            "\n",
            "Proporsi Variansi:\n",
            "[0.00226376 0.00805682 0.0147118  0.97496762]\n",
            "\n",
            "Kontribusi Variansi:\n",
            "[0.00226376 0.01032058 0.02503238 1.        ]\n"
          ]
        }
      ]
    },
    {
      "cell_type": "code",
      "source": [
        "#menentukan ambang batas atau threshold dala pemilhan eigen\n",
        "#biasanya diatas 70%\n",
        "threshold=0.90\n",
        "n_components=np.argmax(cumulative_variance>=threshold)+1\n",
        "n_components"
      ],
      "metadata": {
        "colab": {
          "base_uri": "https://localhost:8080/"
        },
        "id": "jrXKNHylQC5y",
        "outputId": "dc6a0dda-7e07-49cb-9c83-3c1894d4293c"
      },
      "execution_count": null,
      "outputs": [
        {
          "output_type": "execute_result",
          "data": {
            "text/plain": [
              "4"
            ]
          },
          "metadata": {},
          "execution_count": 11
        }
      ]
    },
    {
      "cell_type": "code",
      "source": [
        "#urutksn nilai dan vector eigen\n",
        "sorted_indices= np.argsort(eigenvalues)[::-1] #mengurutkan dari besar kekecil\n",
        "sorted_eigenvalues= eigenvalues[sorted_indices]\n",
        "sorted_eigenvectors= eigenvectors[:, sorted_indices]\n",
        "\n",
        "#mengambil komponen n_componen sebelumnya\n",
        "n_components=1\n",
        "W = sorted_eigenvectors[:, :n_components]\n",
        "W"
      ],
      "metadata": {
        "colab": {
          "base_uri": "https://localhost:8080/"
        },
        "id": "nfALJpM8QWkx",
        "outputId": "f5716250-8083-42e6-9312-5c8a77bc58e1"
      },
      "execution_count": null,
      "outputs": [
        {
          "output_type": "execute_result",
          "data": {
            "text/plain": [
              "array([[-0.4978607 ],\n",
              "       [-0.49607153],\n",
              "       [-0.50354004],\n",
              "       [-0.50248899]])"
            ]
          },
          "metadata": {},
          "execution_count": 13
        }
      ]
    },
    {
      "cell_type": "code",
      "source": [
        "#TRANSFORMASI DATA\n",
        "Y= Z @ W\n",
        "print(\"data setelah PCA:\",\"\\n\", Y)"
      ],
      "metadata": {
        "colab": {
          "base_uri": "https://localhost:8080/"
        },
        "id": "cbw1sQbjQzhq",
        "outputId": "db90ebb7-24ae-4758-8f06-67de0f4da521"
      },
      "execution_count": null,
      "outputs": [
        {
          "output_type": "stream",
          "name": "stdout",
          "text": [
            "data setelah PCA: \n",
            " [[-1.85364122]\n",
            " [ 2.95159575]\n",
            " [-1.54579331]\n",
            " [-0.29769242]\n",
            " [-3.46574526]\n",
            " [-1.33423136]\n",
            " [ 0.24222221]\n",
            " [ 2.066633  ]\n",
            " [ 0.90644968]\n",
            " [ 2.33020293]]\n"
          ]
        }
      ]
    },
    {
      "cell_type": "markdown",
      "source": [
        "**PCA MENGGUNAKAN SKLEARN**"
      ],
      "metadata": {
        "id": "-I5tMuP_ROjl"
      }
    },
    {
      "cell_type": "code",
      "source": [
        "#IMPORT LIBRARY\n",
        "import numpy as np\n",
        "from sklearn.decomposition import PCA"
      ],
      "metadata": {
        "id": "mEVZAcKTRZxp"
      },
      "execution_count": null,
      "outputs": []
    },
    {
      "cell_type": "code",
      "source": [
        "#masukan data yang dignakan\n",
        "data= np.array([\n",
        "    [2.5, 2.4, 3.5, 3.6],\n",
        "    [0.5, 0.7, 1.2, 1.3],\n",
        "    [2.2, 2.9, 3.0, 3.4],\n",
        "    [1.9, 2.2, 2.5, 2.7],\n",
        "    [3.1, 3.6, 4.1, 4.0],\n",
        "    [2.3, 2.7, 3.1, 3.0],\n",
        "    [2.0, 1.6, 2.3, 2.4],\n",
        "    [1.0, 1.1, 1.5, 1.6],\n",
        "    [1.5, 1.6, 2.0, 2.1],\n",
        "    [1.1, 0.9, 1.3, 1.4]\n",
        "])\n",
        "\n",
        "data\n"
      ],
      "metadata": {
        "colab": {
          "base_uri": "https://localhost:8080/"
        },
        "id": "je9IjO50RZy3",
        "outputId": "10ee7e19-34cf-4d27-8100-f575a7db9647"
      },
      "execution_count": null,
      "outputs": [
        {
          "output_type": "execute_result",
          "data": {
            "text/plain": [
              "array([[2.5, 2.4, 3.5, 3.6],\n",
              "       [0.5, 0.7, 1.2, 1.3],\n",
              "       [2.2, 2.9, 3. , 3.4],\n",
              "       [1.9, 2.2, 2.5, 2.7],\n",
              "       [3.1, 3.6, 4.1, 4. ],\n",
              "       [2.3, 2.7, 3.1, 3. ],\n",
              "       [2. , 1.6, 2.3, 2.4],\n",
              "       [1. , 1.1, 1.5, 1.6],\n",
              "       [1.5, 1.6, 2. , 2.1],\n",
              "       [1.1, 0.9, 1.3, 1.4]])"
            ]
          },
          "metadata": {},
          "execution_count": 18
        }
      ]
    },
    {
      "cell_type": "code",
      "source": [
        "#lakukann standaraisasi\n",
        "import numpy as np\n",
        "from sklearn.preprocessing import StandardScaler\n",
        "scaler= StandardScaler()\n",
        "scaled_data= scaler.fit_transform(data)\n",
        "scaled_data"
      ],
      "metadata": {
        "colab": {
          "base_uri": "https://localhost:8080/"
        },
        "id": "kjAWVn-WR4n2",
        "outputId": "2215eb03-2ec7-4f88-94c1-731d939bd9f9"
      },
      "execution_count": null,
      "outputs": [
        {
          "output_type": "execute_result",
          "data": {
            "text/plain": [
              "array([[ 0.92627881,  0.47833912,  1.13455516,  1.16201358],\n",
              "       [-1.7585873 , -1.41276904, -1.35066091, -1.3833495 ],\n",
              "       [ 0.52354889,  1.0345474 ,  0.5942908 ,  0.94067766],\n",
              "       [ 0.12081898,  0.25585581,  0.05402644,  0.16600194],\n",
              "       [ 1.73173864,  1.813239  ,  1.78287239,  1.60468542],\n",
              "       [ 0.6577922 ,  0.81206409,  0.70234367,  0.49800582],\n",
              "       [ 0.25506228, -0.41159413, -0.16207931, -0.16600194],\n",
              "       [-1.08737078, -0.96780241, -1.02650229, -1.05134562],\n",
              "       [-0.41615425, -0.41159413, -0.48623793, -0.49800582],\n",
              "       [-0.95312747, -1.19028572, -1.24260803, -1.27268154]])"
            ]
          },
          "metadata": {},
          "execution_count": 21
        }
      ]
    },
    {
      "cell_type": "code",
      "source": [
        "#lakukan redukdi dengan PCA\n",
        "#DIPILIH SATU KOMPONRN SESUAI N_COMPONEN\n",
        "pca= PCA(n_components=1)\n",
        "X_pca= pca.fit_transform(scaled_data)\n",
        "#tampilkan hasil reduksi pca\n",
        "print(\"data setelah direduksi mneggunakan PCA:\",\"\\n\", X_pca)"
      ],
      "metadata": {
        "colab": {
          "base_uri": "https://localhost:8080/"
        },
        "id": "PLkAzRssSLsU",
        "outputId": "29e50d9c-7396-4d53-f2e0-e0a97bcacf74"
      },
      "execution_count": null,
      "outputs": [
        {
          "output_type": "stream",
          "name": "stdout",
          "text": [
            "data setelah direduksi mneggunakan PCA: \n",
            " [[ 1.85364122]\n",
            " [-2.95159575]\n",
            " [ 1.54579331]\n",
            " [ 0.29769242]\n",
            " [ 3.46574526]\n",
            " [ 1.33423136]\n",
            " [-0.24222221]\n",
            " [-2.066633  ]\n",
            " [-0.90644968]\n",
            " [-2.33020293]]\n"
          ]
        }
      ]
    },
    {
      "cell_type": "markdown",
      "source": [
        "**TUGAS MANDIRI **"
      ],
      "metadata": {
        "id": "DWQHgTQQS4TT"
      }
    },
    {
      "cell_type": "code",
      "source": [
        "# HANYA MENGGUNAKAN LIBRARY NUMPY\n",
        "\n",
        "import numpy as np\n",
        "\n",
        "\n",
        "#Import data set\n",
        "data1= np.array([\n",
        "    [2.5, 0.5, 2.2, 1.9, 3.1, 2.3, 2.0, 1.0, 1.5, 1.1],\n",
        "    [2.4, 0.7, 2.9, 2.2, 3.6, 2.7, 1.6, 1.1, 1.6, 0.9],\n",
        "    [3.1, 1.0, 3.2, 2.5, 4.0, 3.1, 2.3, 1.5, 2.0, 1.3],\n",
        "    [1.2, 0.5, 1.4, 1.0, 2.0, 1.7, 0.8, 0.7, 1.3, 0.9],\n",
        "    [1.5, 0.3, 1.8, 1.2, 2.5, 1.9, 1.1, 0.9, 1.4, 0.7],\n",
        "    [2.3, 0.8, 2.5, 1.8, 3.0, 2.6, 1.5, 1.0, 1.7, 1.0]\n",
        "])\n",
        "data1\n"
      ],
      "metadata": {
        "colab": {
          "base_uri": "https://localhost:8080/"
        },
        "id": "RCW7SLCMSLul",
        "outputId": "8921441a-0115-4036-89d4-957880262423"
      },
      "execution_count": null,
      "outputs": [
        {
          "output_type": "execute_result",
          "data": {
            "text/plain": [
              "array([[2.5, 0.5, 2.2, 1.9, 3.1, 2.3, 2. , 1. , 1.5, 1.1],\n",
              "       [2.4, 0.7, 2.9, 2.2, 3.6, 2.7, 1.6, 1.1, 1.6, 0.9],\n",
              "       [3.1, 1. , 3.2, 2.5, 4. , 3.1, 2.3, 1.5, 2. , 1.3],\n",
              "       [1.2, 0.5, 1.4, 1. , 2. , 1.7, 0.8, 0.7, 1.3, 0.9],\n",
              "       [1.5, 0.3, 1.8, 1.2, 2.5, 1.9, 1.1, 0.9, 1.4, 0.7],\n",
              "       [2.3, 0.8, 2.5, 1.8, 3. , 2.6, 1.5, 1. , 1.7, 1. ]])"
            ]
          },
          "metadata": {},
          "execution_count": 31
        }
      ]
    },
    {
      "cell_type": "code",
      "source": [
        "#standarisasi\n",
        "mean= np.mean(data1, axis=0)\n",
        "std_dev= np.std(data1, axis=0)\n",
        "Z= (data1-mean)/std_dev\n",
        "Z\n",
        "\n"
      ],
      "metadata": {
        "colab": {
          "base_uri": "https://localhost:8080/"
        },
        "id": "NZbrzlAqVXsi",
        "outputId": "9b396da9-928b-4b42-8d3a-86bc5dd5413e"
      },
      "execution_count": null,
      "outputs": [
        {
          "output_type": "execute_result",
          "data": {
            "text/plain": [
              "array([[ 0.52342392, -0.58345997, -0.21661214,  0.25400025,  0.10101525,\n",
              "        -0.1745012 ,  0.88968025, -0.13736056, -0.36760731,  0.62609903],\n",
              "       [ 0.36639675,  0.29172998,  0.92060161,  0.82550083,  0.85862966,\n",
              "         0.66310457,  0.09885336,  0.27472113,  0.07352146, -0.4472136 ],\n",
              "       [ 1.46558698,  1.60451491,  1.40797894,  1.3970014 ,  1.46472119,\n",
              "         1.50071035,  1.48280041,  1.9230479 ,  1.83803656,  1.69941166],\n",
              "       [-1.51792938, -0.58345997, -1.51628501, -1.46050146, -1.56573644,\n",
              "        -1.43090987, -1.48280041, -1.37360564, -1.24986486, -0.4472136 ],\n",
              "       [-1.04684785, -1.45864991, -0.86644858, -1.07950108, -0.80812204,\n",
              "        -1.01210698, -0.88968025, -0.54944226, -0.80873608, -1.52052622],\n",
              "       [ 0.20936957,  0.72932496,  0.27076518,  0.06350006, -0.05050763,\n",
              "         0.45370313, -0.09885336, -0.13736056,  0.51465024,  0.08944272]])"
            ]
          },
          "metadata": {},
          "execution_count": 32
        }
      ]
    },
    {
      "cell_type": "code",
      "source": [
        "#HITUNG MATRIKS COVARIAN\n",
        "cov_matrix = np.cov(Z, rowvar=False)\n",
        "cov_matrix\n",
        "\n",
        "#HITUNG NILAI EIGEN DAN VECTOR EIGEN\n",
        "eigenvalues, eigenvectors = np.linalg.eigh(cov_matrix)\n",
        "\n",
        "#hitung proporsi variansi dari niali eigen\n",
        "total_variance = np.sum(eigenvalues)\n",
        "proportions = eigenvalues / total_variance\n",
        "#HITUNG KONTRIBUSI VARIANSI DARI NILAI EIGEN\n",
        "cumulative_variance = np.cumsum(proportions)\n",
        "\n",
        "#menampilkan hasil\n",
        "print(\"Nilai Eigen:\")\n",
        "print(eigenvalues)\n",
        "print(\"\\nVector Eigen:\")\n",
        "print(eigenvectors)\n",
        "print(\"\\nProporsi Variansi:\")\n",
        "print(proportions)\n",
        "print(\"\\nKontribusi Variansi:\")\n",
        "print(cumulative_variance)\n"
      ],
      "metadata": {
        "colab": {
          "base_uri": "https://localhost:8080/"
        },
        "id": "U3HSqBIFVXto",
        "outputId": "cad90c50-ebb3-4232-cf7f-8752d869f34e"
      },
      "execution_count": null,
      "outputs": [
        {
          "output_type": "stream",
          "name": "stdout",
          "text": [
            "Nilai Eigen:\n",
            "[-9.93534531e-16 -8.36627399e-17  1.24320662e-16  2.49345990e-16\n",
            "  6.37611128e-16  5.16893598e-02  1.78304176e-01  5.27706960e-01\n",
            "  6.17487769e-01  1.06248117e+01]\n",
            "\n",
            "Vector Eigen:\n",
            "[[ 0.38528754 -0.19647288  0.58699899  0.23388805  0.19730807 -0.40976319\n",
            "  -0.16732817  0.26588079  0.00282126 -0.32885387]\n",
            " [-0.4086725  -0.00262509  0.27561533 -0.03009888  0.3150376   0.07939815\n",
            "  -0.26068523 -0.62705595 -0.32117533 -0.29367984]\n",
            " [ 0.37592015  0.17434278 -0.51317532  0.06950004  0.53274278  0.0539032\n",
            "  -0.15848171 -0.15930758  0.34429006 -0.32304495]\n",
            " [ 0.01574033  0.64660719  0.22927009 -0.12811526 -0.40452999  0.25304215\n",
            "  -0.35215313  0.12233749  0.1960797  -0.3279828 ]\n",
            " [-0.32520846 -0.4435811  -0.08414648  0.5429619  -0.2082251   0.35490296\n",
            "  -0.06742532  0.10530523  0.32409739 -0.32495958]\n",
            " [ 0.09484381 -0.45490955 -0.16923447 -0.59062495 -0.3822441  -0.25834135\n",
            "  -0.14580815 -0.19647809  0.15803981 -0.32998907]\n",
            " [-0.56316724  0.1110342  -0.20344372 -0.22678846  0.27644152 -0.27533049\n",
            "   0.04743734  0.56446733 -0.09146616 -0.31020187]\n",
            " [ 0.11646577 -0.04179257  0.28629706 -0.29998187  0.16361541  0.43047138\n",
            "   0.69945944  0.01576926  0.0883212  -0.32150513]\n",
            " [-0.02404174  0.29528612 -0.16066923  0.3647738  -0.31938951 -0.4716577\n",
            "   0.4789214  -0.29793758 -0.0871122  -0.32118824]\n",
            " [ 0.3113215  -0.08899025 -0.28047067  0.07084602 -0.140334    0.2873749\n",
            "  -0.09083232  0.1960388  -0.76556164 -0.27646407]]\n",
            "\n",
            "Proporsi Variansi:\n",
            "[-8.27945443e-17 -6.97189499e-18  1.03600551e-17  2.07788325e-17\n",
            "  5.31342607e-17  4.30744665e-03  1.48586814e-02  4.39755800e-02\n",
            "  5.14573141e-02  8.85400978e-01]\n",
            "\n",
            "Kontribusi Variansi:\n",
            "[-8.27945443e-17 -8.97664393e-17 -7.94063841e-17 -5.86275517e-17\n",
            " -5.49329101e-18  4.30744665e-03  1.91661280e-02  6.31417080e-02\n",
            "  1.14599022e-01  1.00000000e+00]\n"
          ]
        }
      ]
    },
    {
      "cell_type": "code",
      "source": [
        "#menentukan ambang batas atau threshold dala pemilhan eigen\n",
        "#biasanya diatas 70%\n",
        "threshold=0.80\n",
        "n_components=np.argmax(cumulative_variance>=threshold)+1\n",
        "print(\"ambang batas 80%:\", n_components)\n",
        "#urutksn nilai dan vector eigen\n",
        "sorted_indices= np.argsort(eigenvalues)[::-1] #mengurutkan dari besar kekecil\n",
        "sorted_eigenvalues= eigenvalues[sorted_indices]\n",
        "sorted_eigenvectors= eigenvectors[:, sorted_indices]\n",
        "\n",
        "print(\"\\nNilai Eigen Setelah Diurutkan:\")\n",
        "print(sorted_eigenvalues)\n",
        "print(\"\\nVector Eigen Setelah Diurutkan:\")\n",
        "print(sorted_eigenvectors)\n",
        "\n",
        "#mengambil komponen n_componen sebelumnya\n",
        "n_components=1\n",
        "W = sorted_eigenvectors[:, :n_components]\n",
        "print(W)\n",
        "#TRANSFORMASI DATA\n",
        "Y= Z @ W\n",
        "print(\"data setelah PCA:\",\"\\n\", Y)\n"
      ],
      "metadata": {
        "colab": {
          "base_uri": "https://localhost:8080/"
        },
        "id": "Pyw1iToZVXun",
        "outputId": "84cfef3a-4558-48a0-b9be-e71cc7c2561c"
      },
      "execution_count": null,
      "outputs": [
        {
          "output_type": "stream",
          "name": "stdout",
          "text": [
            "ambang batas 80%: 10\n",
            "\n",
            "Nilai Eigen Setelah Diurutkan:\n",
            "[ 1.06248117e+01  6.17487769e-01  5.27706960e-01  1.78304176e-01\n",
            "  5.16893598e-02  6.37611128e-16  2.49345990e-16  1.24320662e-16\n",
            " -8.36627399e-17 -9.93534531e-16]\n",
            "\n",
            "Vector Eigen Setelah Diurutkan:\n",
            "[[-0.32885387  0.00282126  0.26588079 -0.16732817 -0.40976319  0.19730807\n",
            "   0.23388805  0.58699899 -0.19647288  0.38528754]\n",
            " [-0.29367984 -0.32117533 -0.62705595 -0.26068523  0.07939815  0.3150376\n",
            "  -0.03009888  0.27561533 -0.00262509 -0.4086725 ]\n",
            " [-0.32304495  0.34429006 -0.15930758 -0.15848171  0.0539032   0.53274278\n",
            "   0.06950004 -0.51317532  0.17434278  0.37592015]\n",
            " [-0.3279828   0.1960797   0.12233749 -0.35215313  0.25304215 -0.40452999\n",
            "  -0.12811526  0.22927009  0.64660719  0.01574033]\n",
            " [-0.32495958  0.32409739  0.10530523 -0.06742532  0.35490296 -0.2082251\n",
            "   0.5429619  -0.08414648 -0.4435811  -0.32520846]\n",
            " [-0.32998907  0.15803981 -0.19647809 -0.14580815 -0.25834135 -0.3822441\n",
            "  -0.59062495 -0.16923447 -0.45490955  0.09484381]\n",
            " [-0.31020187 -0.09146616  0.56446733  0.04743734 -0.27533049  0.27644152\n",
            "  -0.22678846 -0.20344372  0.1110342  -0.56316724]\n",
            " [-0.32150513  0.0883212   0.01576926  0.69945944  0.43047138  0.16361541\n",
            "  -0.29998187  0.28629706 -0.04179257  0.11646577]\n",
            " [-0.32118824 -0.0871122  -0.29793758  0.4789214  -0.4716577  -0.31938951\n",
            "   0.3647738  -0.16066923  0.29528612 -0.02404174]\n",
            " [-0.27646407 -0.76556164  0.1960388  -0.09083232  0.2873749  -0.140334\n",
            "   0.07084602 -0.28047067 -0.08899025  0.3113215 ]]\n",
            "[[-0.32885387]\n",
            " [-0.29367984]\n",
            " [-0.32304495]\n",
            " [-0.3279828 ]\n",
            " [-0.32495958]\n",
            " [-0.32998907]\n",
            " [-0.31020187]\n",
            " [-0.32150513]\n",
            " [-0.32118824]\n",
            " [-0.27646407]]\n",
            "data setelah PCA: \n",
            " [[-0.27619529]\n",
            " [-1.29111366]\n",
            " [-4.97582295]\n",
            " [ 4.04702972]\n",
            " [ 3.13594326]\n",
            " [-0.63984109]]\n"
          ]
        }
      ]
    },
    {
      "cell_type": "markdown",
      "source": [
        "2. Buatlah program untuk mereduksi jumlah fitur dari data penyakit jantung di bawah ini\n",
        "dengan ketentuan:\n",
        "● Gunakan library sklearn\n",
        "● Pilih komponen utama sebanyak 2.\n",
        "● Data dapat dimasukkan manual melalui np.array atau langsung menggunakan\n",
        "pd.read_csv() sebelum kemudian mengubahnya kedalam bentuk array\n",
        "menggunakan fungsi pandas dataframe.to_numpy(). Data dapat diunduh pada\n",
        "tautan https://shorturl.at/Dq1OO"
      ],
      "metadata": {
        "id": "wTD76LXMWJKq"
      }
    },
    {
      "cell_type": "code",
      "source": [
        "#menggunakan library sklearn\n",
        "#IMPORT LIBRARY\n",
        "import numpy as np\n",
        "from sklearn.decomposition import PCA\n",
        "import pandas as pd\n",
        "\n",
        "#MEMBACA DATA\n",
        "data= pd.read_csv(\"heart_fitur.csv\")\n",
        "data\n",
        "\n",
        "#MENGUBAH BENTUK ARRAY\n",
        "df= data.to_numpy()\n",
        "df"
      ],
      "metadata": {
        "colab": {
          "base_uri": "https://localhost:8080/"
        },
        "id": "gL68HQ7CWXby",
        "outputId": "5bf395fa-bf81-4995-a9a6-0f621c153061"
      },
      "execution_count": null,
      "outputs": [
        {
          "output_type": "execute_result",
          "data": {
            "text/plain": [
              "array([[6.30e+01, 1.00e+00, 1.00e+00, 1.45e+02, 2.33e+02, 1.00e+00,\n",
              "        2.00e+00, 1.50e+02, 0.00e+00, 2.30e+00, 3.00e+00, 0.00e+00,\n",
              "        6.00e+00],\n",
              "       [6.70e+01, 1.00e+00, 4.00e+00, 1.60e+02, 2.86e+02, 0.00e+00,\n",
              "        2.00e+00, 1.08e+02, 1.00e+00, 1.50e+00, 2.00e+00, 3.00e+00,\n",
              "        3.00e+00],\n",
              "       [6.70e+01, 1.00e+00, 4.00e+00, 1.20e+02, 2.29e+02, 0.00e+00,\n",
              "        2.00e+00, 1.29e+02, 1.00e+00, 2.60e+00, 2.00e+00, 2.00e+00,\n",
              "        7.00e+00],\n",
              "       [3.70e+01, 1.00e+00, 3.00e+00, 1.30e+02, 2.50e+02, 0.00e+00,\n",
              "        0.00e+00, 1.87e+02, 0.00e+00, 3.50e+00, 3.00e+00, 0.00e+00,\n",
              "        3.00e+00],\n",
              "       [6.30e+01, 1.00e+00, 4.00e+00, 1.30e+02, 2.54e+02, 0.00e+00,\n",
              "        2.00e+00, 1.47e+02, 0.00e+00, 1.40e+00, 2.00e+00, 1.00e+00,\n",
              "        7.00e+00],\n",
              "       [5.30e+01, 1.00e+00, 4.00e+00, 1.40e+02, 2.03e+02, 1.00e+00,\n",
              "        2.00e+00, 1.55e+02, 1.00e+00, 3.10e+00, 3.00e+00, 0.00e+00,\n",
              "        7.00e+00],\n",
              "       [5.70e+01, 1.00e+00, 4.00e+00, 1.40e+02, 1.92e+02, 0.00e+00,\n",
              "        0.00e+00, 1.48e+02, 0.00e+00, 4.00e-01, 2.00e+00, 0.00e+00,\n",
              "        6.00e+00],\n",
              "       [5.60e+01, 0.00e+00, 2.00e+00, 1.40e+02, 2.94e+02, 0.00e+00,\n",
              "        2.00e+00, 1.53e+02, 0.00e+00, 1.30e+00, 2.00e+00, 0.00e+00,\n",
              "        3.00e+00],\n",
              "       [5.60e+01, 1.00e+00, 3.00e+00, 1.30e+02, 2.56e+02, 1.00e+00,\n",
              "        2.00e+00, 1.42e+02, 1.00e+00, 6.00e-01, 2.00e+00, 1.00e+00,\n",
              "        6.00e+00],\n",
              "       [4.40e+01, 1.00e+00, 2.00e+00, 1.20e+02, 2.63e+02, 0.00e+00,\n",
              "        0.00e+00, 1.73e+02, 0.00e+00, 0.00e+00, 1.00e+00, 0.00e+00,\n",
              "        7.00e+00],\n",
              "       [5.20e+01, 1.00e+00, 3.00e+00, 1.72e+02, 1.99e+02, 1.00e+00,\n",
              "        0.00e+00, 1.62e+02, 0.00e+00, 5.00e-01, 1.00e+00, 0.00e+00,\n",
              "        7.00e+00],\n",
              "       [5.70e+01, 1.00e+00, 3.00e+00, 1.50e+02, 1.68e+02, 0.00e+00,\n",
              "        0.00e+00, 1.74e+02, 0.00e+00, 1.60e+00, 1.00e+00, 0.00e+00,\n",
              "        3.00e+00],\n",
              "       [5.40e+01, 1.00e+00, 4.00e+00, 1.40e+02, 2.39e+02, 0.00e+00,\n",
              "        0.00e+00, 1.60e+02, 0.00e+00, 1.20e+00, 1.00e+00, 0.00e+00,\n",
              "        3.00e+00],\n",
              "       [4.80e+01, 0.00e+00, 3.00e+00, 1.30e+02, 2.75e+02, 0.00e+00,\n",
              "        0.00e+00, 1.39e+02, 0.00e+00, 2.00e-01, 1.00e+00, 0.00e+00,\n",
              "        3.00e+00],\n",
              "       [4.90e+01, 1.00e+00, 2.00e+00, 1.30e+02, 2.66e+02, 0.00e+00,\n",
              "        0.00e+00, 1.71e+02, 0.00e+00, 6.00e-01, 1.00e+00, 0.00e+00,\n",
              "        3.00e+00]])"
            ]
          },
          "metadata": {},
          "execution_count": 43
        }
      ]
    },
    {
      "cell_type": "code",
      "source": [
        "#lakukann standaraisasi\n",
        "import numpy as np\n",
        "from sklearn.preprocessing import StandardScaler\n",
        "scaler= StandardScaler()\n",
        "scaled_data= scaler.fit_transform(df)\n",
        "scaled_data"
      ],
      "metadata": {
        "colab": {
          "base_uri": "https://localhost:8080/"
        },
        "id": "l-_uVFZJXYkx",
        "outputId": "1b1bc54f-f10d-4716-f93d-7d156f7b92d2"
      },
      "execution_count": null,
      "outputs": [
        {
          "output_type": "execute_result",
          "data": {
            "text/plain": [
              "array([[ 1.01155159,  0.39223227, -2.22567029,  0.47702263, -0.21135989,\n",
              "         1.6583124 ,  1.06904497, -0.16799656, -0.60302269,  0.8805602 ,\n",
              "         1.60356745, -0.52764485,  0.57885968],\n",
              "       [ 1.50903599,  0.39223227,  1.00514142,  1.57222763,  1.28891787,\n",
              "        -0.60302269,  1.06904497, -2.37295135,  1.6583124 ,  0.10926659,\n",
              "         0.26726124,  2.86435777, -1.04918318],\n",
              "       [ 1.50903599,  0.39223227,  1.00514142, -1.34831905, -0.3245884 ,\n",
              "        -0.60302269,  1.06904497, -1.27047396,  1.6583124 ,  1.1697953 ,\n",
              "         0.26726124,  1.73369023,  1.12154064],\n",
              "       [-2.22209695,  0.39223227, -0.07179582, -0.61818238,  0.26986128,\n",
              "        -0.60302269, -0.93541435,  1.77446362, -0.60302269,  2.03750061,\n",
              "         1.60356745, -0.52764485, -1.04918318],\n",
              "       [ 1.01155159,  0.39223227,  1.00514142, -0.61818238,  0.38308979,\n",
              "        -0.60302269,  1.06904497, -0.32549333, -0.60302269,  0.01285489,\n",
              "         0.26726124,  0.60302269,  1.12154064],\n",
              "       [-0.23215938,  0.39223227,  1.00514142,  0.11195429, -1.06057371,\n",
              "         1.6583124 ,  1.06904497,  0.09449806,  1.6583124 ,  1.65185381,\n",
              "         1.60356745, -0.52764485,  1.12154064],\n",
              "       [ 0.26532501,  0.39223227,  1.00514142,  0.11195429, -1.37195211,\n",
              "        -0.60302269, -0.93541435, -0.2729944 , -0.60302269, -0.95126212,\n",
              "         0.26726124, -0.52764485,  0.57885968],\n",
              "       [ 0.14095391, -2.54950976, -1.14873305,  0.11195429,  1.51537489,\n",
              "        -0.60302269,  1.06904497, -0.01049978, -0.60302269, -0.08355681,\n",
              "         0.26726124, -0.52764485, -1.04918318],\n",
              "       [ 0.14095391,  0.39223227, -0.07179582, -0.61818238,  0.43970405,\n",
              "         1.6583124 ,  1.06904497, -0.58798795,  1.6583124 , -0.75843871,\n",
              "         0.26726124,  0.60302269,  0.57885968],\n",
              "       [-1.35149926,  0.39223227, -1.14873305, -1.34831905,  0.63785394,\n",
              "        -0.60302269, -0.93541435,  1.03947869, -0.60302269, -1.33690892,\n",
              "        -1.06904497, -0.52764485,  1.12154064],\n",
              "       [-0.35653048,  0.39223227, -0.07179582,  2.44839164, -1.17380222,\n",
              "         1.6583124 , -0.93541435,  0.46199053, -0.60302269, -0.85485041,\n",
              "        -1.06904497, -0.52764485,  1.12154064],\n",
              "       [ 0.26532501,  0.39223227, -0.07179582,  0.84209096, -2.05132317,\n",
              "        -0.60302269, -0.93541435,  1.09197761, -0.60302269,  0.2056783 ,\n",
              "        -1.06904497, -0.52764485, -1.04918318],\n",
              "       [-0.10778828,  0.39223227,  1.00514142,  0.11195429, -0.04151712,\n",
              "        -0.60302269, -0.93541435,  0.35699268, -0.60302269, -0.17996851,\n",
              "        -1.06904497, -0.52764485, -1.04918318],\n",
              "       [-0.85401487, -2.54950976, -0.07179582, -0.61818238,  0.97753947,\n",
              "        -0.60302269, -0.93541435, -0.74548472, -0.60302269, -1.14408552,\n",
              "        -1.06904497, -0.52764485, -1.04918318],\n",
              "       [-0.72964377,  0.39223227, -1.14873305, -0.61818238,  0.72277532,\n",
              "        -0.60302269, -0.93541435,  0.93448084, -0.60302269, -0.75843871,\n",
              "        -1.06904497, -0.52764485, -1.04918318]])"
            ]
          },
          "metadata": {},
          "execution_count": 44
        }
      ]
    },
    {
      "cell_type": "code",
      "source": [
        "#lakukan redukdi dengan PCA\n",
        "#DIPILIH SATU KOMPONRN SESUAI N_COMPONEN\n",
        "pca= PCA(n_components=1)\n",
        "X_pca= pca.fit_transform(scaled_data)\n",
        "#tampilkan hasil reduksi pca\n",
        "print(\"data setelah direduksi mneggunakan PCA:\",\"\\n\", X_pca)"
      ],
      "metadata": {
        "colab": {
          "base_uri": "https://localhost:8080/"
        },
        "id": "Mh9hc-DdXm7t",
        "outputId": "23833812-9e2b-4f40-e793-d50d5c1321bd"
      },
      "execution_count": null,
      "outputs": [
        {
          "output_type": "stream",
          "name": "stdout",
          "text": [
            "data setelah direduksi mneggunakan PCA: \n",
            " [[ 0.95415701]\n",
            " [ 3.87494073]\n",
            " [ 3.45834806]\n",
            " [-1.80634953]\n",
            " [ 1.36694326]\n",
            " [ 2.23261405]\n",
            " [-0.48668001]\n",
            " [-0.72343799]\n",
            " [ 1.91170781]\n",
            " [-2.40954875]\n",
            " [-1.00836399]\n",
            " [-1.6320316 ]\n",
            " [-1.33534801]\n",
            " [-2.00785739]\n",
            " [-2.38909366]]\n"
          ]
        }
      ]
    }
  ]
}